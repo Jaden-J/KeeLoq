{
 "cells": [
  {
   "cell_type": "code",
   "execution_count": 1,
   "metadata": {},
   "outputs": [
    {
     "data": {
      "text/html": [
       "<html><script type=\"math/tex; mode=display\">\\newcommand{\\Bold}[1]{\\mathbf{#1}}\\verb|in|\\phantom{\\verb!x!}\\verb|the|\\phantom{\\verb!x!}\\verb|name|\\phantom{\\verb!x!}\\verb|of|\\phantom{\\verb!x!}\\verb|ALLAH|</script></html>"
      ],
      "text/plain": [
       "'in the name of ALLAH'"
      ]
     },
     "metadata": {},
     "output_type": "display_data"
    }
   ],
   "source": [
    "pretty_print(\"in the name of ALLAH\")"
   ]
  },
  {
   "cell_type": "code",
   "execution_count": 2,
   "metadata": {},
   "outputs": [],
   "source": [
    "from sage.sat.boolean_polynomials import solve as solve_sat\n",
    "from sage.rings.polynomial.multi_polynomial_sequence import PolynomialSequence\n",
    "import re\n",
    "import pdb"
   ]
  },
  {
   "cell_type": "code",
   "execution_count": 3,
   "metadata": {},
   "outputs": [],
   "source": [
    "# It’s possible to compile code in a notebook cell with Cython. For this you need to load the Cython magic:\n",
    "#Then you can define a Cython cell by writing %%cython on top of it. Like this:\n",
    "# %%cython\n",
    "# cython codes\n",
    "%load_ext cython"
   ]
  },
  {
   "cell_type": "code",
   "execution_count": 4,
   "metadata": {},
   "outputs": [
    {
     "name": "stdout",
     "output_type": "stream",
     "text": [
      "/home/hosein/Desktop/KeeLoq\n",
      "gcc -g -Wall -o main  main.c keeloq.c speed.c polygen.c\n"
     ]
    }
   ],
   "source": [
    "%%sh\n",
    "pwd\n",
    "#ls -la\n",
    "make"
   ]
  },
  {
   "cell_type": "code",
   "execution_count": 5,
   "metadata": {},
   "outputs": [],
   "source": [
    "#%%sh\n",
    "#./main"
   ]
  },
  {
   "cell_type": "code",
   "execution_count": 6,
   "metadata": {},
   "outputs": [
    {
     "name": "stdout",
     "output_type": "stream",
     "text": [
      "/home/hosein/Desktop/KeeLoq\n"
     ]
    }
   ],
   "source": [
    "%%sh\n",
    "pwd"
   ]
  },
  {
   "cell_type": "code",
   "execution_count": 7,
   "metadata": {
    "scrolled": true
   },
   "outputs": [],
   "source": [
    "%%cython -I /home/hosein/Desktop/KeeLoq\n",
    "\n",
    "from libc.stdint cimport uint32_t, uint64_t\n",
    "from libc.stdlib cimport calloc, free\n",
    "    \n",
    "cdef extern from \"keeloq.c\":\n",
    "    void keeloq_encrypt(uint64_t *key, uint32_t *plaintext, uint32_t *ciphertext, int nrounds)\n",
    "    void keeloq_decrypt(uint64_t *key, uint32_t *plaintext, uint32_t *ciphertext, int nrounds)\n",
    "    \n",
    "cdef extern from \"polygen.c\":\n",
    "    ctypedef struct polys:\n",
    "        char poly[300]\n",
    "    ctypedef struct polyequations:\n",
    "        polys *eqs\n",
    "        uint64_t number_of_eqs\n",
    "    polyequations polynomials(uint32_t *plains, uint32_t *ciphers, int r, int number_of_plains)\n",
    "\n",
    "def keeloq_enc(k, p, r):\n",
    "    cdef uint64_t k1\n",
    "    cdef uint32_t p1\n",
    "    cdef uint32_t c1\n",
    "    k1, p1 = k, p\n",
    "    keeloq_encrypt(&k1, &p1, &c1, r)\n",
    "    return c1\n",
    "\n",
    "def keeloq_dec(k, c, r):\n",
    "    cdef:\n",
    "        uint64_t k1\n",
    "        uint32_t p1\n",
    "        uint32_t c1\n",
    "    k1, c1 = k, c\n",
    "    keeloq_decrypt(&k1, &p1, &c1, r)\n",
    "    return p1\n",
    "    \n",
    "def keeloq_polys(ptexts, ctexts, r, number_of_plains):\n",
    "    cdef int l = len(ptexts)\n",
    "    cdef:\n",
    "        uint32_t *plains = <uint32_t *> calloc(l, sizeof(uint32_t))\n",
    "        uint32_t *ciphers = <uint32_t *> calloc(l, sizeof(uint32_t)) \n",
    "        polyequations equations\n",
    "    for i in range(l):\n",
    "        plains[i] = ptexts[i]\n",
    "        ciphers[i] = ctexts[i]    \n",
    "    equations = polynomials(plains, ciphers, r, number_of_plains)\n",
    "    st = []\n",
    "    for i in range(equations.number_of_eqs):\n",
    "        st.append(equations.eqs[i].poly)\n",
    "    free(plains)\n",
    "    free(ciphers)\n",
    "    return st"
   ]
  },
  {
   "cell_type": "code",
   "execution_count": 8,
   "metadata": {},
   "outputs": [
    {
     "data": {
      "text/plain": [
       "'0xe44f4cdf'"
      ]
     },
     "execution_count": 8,
     "metadata": {},
     "output_type": "execute_result"
    }
   ],
   "source": [
    "k = 0x5cec6701b79fd949\n",
    "p = 0xf741e2db\n",
    "r = 528\n",
    "c = keeloq_enc(k, p, r)\n",
    "hex(c)"
   ]
  },
  {
   "cell_type": "code",
   "execution_count": 9,
   "metadata": {},
   "outputs": [],
   "source": [
    "@parallel\n",
    "def paralle_encrypt(p, r):\n",
    "    k = 0x21537612\n",
    "    # = randint(0, 10^7)\n",
    "    return keeloq_enc(k, p, r)"
   ]
  },
  {
   "cell_type": "code",
   "execution_count": 10,
   "metadata": {},
   "outputs": [],
   "source": [
    "r = 528\n",
    "number_of_plains = 2^16\n",
    "plains = [randint(0, 2^32 - 1) for _ in range(number_of_plains)]\n",
    "inputs = [(plains[i], 2) for i in range(len(plains))]"
   ]
  },
  {
   "cell_type": "code",
   "execution_count": 11,
   "metadata": {},
   "outputs": [
    {
     "name": "stdout",
     "output_type": "stream",
     "text": [
      "CPU times: user 27 µs, sys: 3 µs, total: 30 µs\n",
      "Wall time: 42.9 µs\n"
     ]
    }
   ],
   "source": [
    "%time ciphers = paralle_encrypt(inputs)"
   ]
  },
  {
   "cell_type": "code",
   "execution_count": 12,
   "metadata": {},
   "outputs": [
    {
     "name": "stdout",
     "output_type": "stream",
     "text": [
      "CPU times: user 6 µs, sys: 0 ns, total: 6 µs\n",
      "Wall time: 14.1 µs\n"
     ]
    }
   ],
   "source": [
    "k = 0x21537612\n",
    "ciphers = [0]*number_of_plains\n",
    "%time\n",
    "for i in range(number_of_plains):\n",
    "    ciphers[i] = keeloq_enc(k, plains[i], r)"
   ]
  },
  {
   "cell_type": "code",
   "execution_count": 13,
   "metadata": {},
   "outputs": [
    {
     "name": "stdout",
     "output_type": "stream",
     "text": [
      "CPU times: user 1.36 ms, sys: 0 ns, total: 1.36 ms\n",
      "Wall time: 1.37 ms\n",
      "CPU times: user 2.43 s, sys: 0 ns, total: 2.43 s\n",
      "Wall time: 2.44 s\n"
     ]
    }
   ],
   "source": [
    "k = 0x5cec6701b79fd949\n",
    "r = 32\n",
    "number_of_plains = 3\n",
    "plains = [randint(0, 2^32 - 1) for _ in range(number_of_plains)]\n",
    "ciphers = [0]*number_of_plains\n",
    "for i in range(number_of_plains):\n",
    "    ciphers[i] = keeloq_enc(k, plains[i], r)\n",
    "%time temp = keeloq_polys(plains, ciphers, r, number_of_plains)\n",
    "vrs = []\n",
    "for f in temp:\n",
    "    terms = re.split(' \\+ |\\*', f)\n",
    "    for v in terms:\n",
    "        if (not v.isdigit()):\n",
    "            vrs.append(v)\n",
    "vrs = list(set(vrs))\n",
    "R = BooleanPolynomialRing(len(vrs), vrs)\n",
    "%time ps = map(R, temp)\n",
    "ps = PolynomialSequence(ps)"
   ]
  },
  {
   "cell_type": "code",
   "execution_count": 14,
   "metadata": {},
   "outputs": [
    {
     "name": "stdout",
     "output_type": "stream",
     "text": [
      "CPU times: user 4.34 s, sys: 17.4 s, total: 21.8 s\n",
      "Wall time: 21.9 s\n",
      "number of solutions : 1\n"
     ]
    }
   ],
   "source": [
    "%time sls = solve_sat(ps, n = infinity, s_verbosity = 4)\n",
    "#print(sls)\n",
    "print(\"number of solutions : %d\" % len(sls))"
   ]
  },
  {
   "cell_type": "code",
   "execution_count": 15,
   "metadata": {},
   "outputs": [],
   "source": [
    "key_sol = dict()\n",
    "kindex = []\n",
    "for i in range(64):\n",
    "    kname = 'k_%d' % i    \n",
    "    if kname in R.variable_names():        \n",
    "        kname = R(kname)\n",
    "        kval = sls[0].get(kname)\n",
    "        if kval != None:\n",
    "            kindex.append(i)            \n",
    "            key_sol[kname] = kval"
   ]
  },
  {
   "cell_type": "code",
   "execution_count": 16,
   "metadata": {},
   "outputs": [
    {
     "name": "stdout",
     "output_type": "stream",
     "text": [
      "C0ngratulation! The extracted key matches with the original key :)\n"
     ]
    }
   ],
   "source": [
    "original_key = bin(k)[2:].zfill(64)\n",
    "original_key = list(original_key)\n",
    "original_key.reverse()\n",
    "equi_flag = True\n",
    "for i in kindex:\n",
    "    #pdb.set_trace()\n",
    "    if original_key[i] != str(key_sol[R(\"k_%d\" % i)]):        \n",
    "        equi_flag = False\n",
    "        break\n",
    "if (equi_flag == True):\n",
    "    print(\"C0ngratulation! The extracted key matches with the original key :)\")\n",
    "else:\n",
    "    print(\"There is mismatch :(\")"
   ]
  },
  {
   "cell_type": "code",
   "execution_count": null,
   "metadata": {
    "collapsed": true
   },
   "outputs": [],
   "source": []
  }
 ],
 "metadata": {
  "kernelspec": {
   "display_name": "SageMath 8.2",
   "language": "",
   "name": "sagemath"
  },
  "language_info": {
   "codemirror_mode": {
    "name": "ipython",
    "version": 2
   },
   "file_extension": ".py",
   "mimetype": "text/x-python",
   "name": "python",
   "nbconvert_exporter": "python",
   "pygments_lexer": "ipython2",
   "version": "2.7.14"
  }
 },
 "nbformat": 4,
 "nbformat_minor": 1
}
